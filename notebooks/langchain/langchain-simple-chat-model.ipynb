{
 "cells": [
  {
   "cell_type": "markdown",
   "id": "f0b53f9e-266f-4359-bcd4-1d915f6e1d01",
   "metadata": {},
   "source": [
    "### Setup\n",
    "\n",
    "This notebook simply follows the online doc of langchain.\n",
    "\n",
    "https://python.langchain.com/docs/tutorials/llm_chain/"
   ]
  },
  {
   "cell_type": "markdown",
   "id": "dfb7578c-732d-4a26-8255-3945eb245730",
   "metadata": {},
   "source": [
    "### Pre-requisite\n",
    "\n",
    "Google API Key \n",
    "https://cloud.google.com/docs/authentication/api-keys"
   ]
  },
  {
   "cell_type": "code",
   "execution_count": null,
   "id": "013b6e15-7965-4ef6-97e8-560ecf2b06f6",
   "metadata": {},
   "outputs": [],
   "source": [
    "%pip install langchain"
   ]
  },
  {
   "cell_type": "code",
   "execution_count": null,
   "id": "5d86b116-56d4-4e9a-b940-d98e8d29606a",
   "metadata": {},
   "outputs": [],
   "source": [
    "import os\n",
    "import getpass\n",
    "\n",
    "os.environ[\"LANGSMITH_TRACING\"]=\"true\"\n",
    "os.environ[\"LANGSMITH_API_KEY\"]=getpass.getpass(\"Insert langsmith api key: \")"
   ]
  },
  {
   "cell_type": "markdown",
   "id": "29f25809-44f7-47bc-9bc0-8ee5e069d625",
   "metadata": {},
   "source": [
    "### Setting up models"
   ]
  },
  {
   "cell_type": "markdown",
   "id": "0f37bd92-4337-4da7-a7af-d628d5ffbd0e",
   "metadata": {},
   "source": [
    "#### Setting up llm"
   ]
  },
  {
   "cell_type": "code",
   "execution_count": null,
   "id": "5a9af3a2-ae68-45a9-addd-1eb327323e21",
   "metadata": {},
   "outputs": [],
   "source": [
    "from langchain.chat_models import init_chat_model\n",
    "\n",
    "if not os.environ.get(\"GOOGLE_API_KEY\"):\n",
    "    os.environ[\"GOOGLE_API_KEY\"] = getpass.getpass(\"Enter API key for google gemini: \")\n",
    "\n",
    "model = init_chat_model(\"gemini-2.0-flash\", model_provider=\"google_genai\")"
   ]
  },
  {
   "cell_type": "markdown",
   "id": "d912647f-0c28-45e2-ab7b-20704a89309d",
   "metadata": {},
   "source": [
    "#### Quick query test"
   ]
  },
  {
   "cell_type": "code",
   "execution_count": null,
   "id": "b3281bf5-f77e-4a53-866d-cbebc8742bff",
   "metadata": {},
   "outputs": [],
   "source": [
    "from langchain_core.messages import HumanMessage, SystemMessage\n",
    "\n",
    "messages = [\n",
    "    SystemMessage(\"Translate the following from English into Italian\"),\n",
    "    HumanMessage(\"hi!\"),\n",
    "]\n",
    "\n",
    "model.invoke(messages)"
   ]
  }
 ],
 "metadata": {
  "kernelspec": {
   "display_name": "Python 3 (ipykernel)",
   "language": "python",
   "name": "python3"
  },
  "language_info": {
   "codemirror_mode": {
    "name": "ipython",
    "version": 3
   },
   "file_extension": ".py",
   "mimetype": "text/x-python",
   "name": "python",
   "nbconvert_exporter": "python",
   "pygments_lexer": "ipython3",
   "version": "3.11.6"
  }
 },
 "nbformat": 4,
 "nbformat_minor": 5
}
