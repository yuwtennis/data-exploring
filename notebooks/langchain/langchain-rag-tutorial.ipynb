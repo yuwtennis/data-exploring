{
 "cells": [
  {
   "cell_type": "markdown",
   "id": "db114ac5-c3bc-4f08-bd0e-9e9f376a0057",
   "metadata": {},
   "source": [
    "## RAG Tutorial\n",
    "\n",
    "This notebook simply follows the online doc of langchain.\n",
    "\n",
    "https://python.langchain.com/docs/tutorials/rag/"
   ]
  },
  {
   "cell_type": "markdown",
   "id": "118f9861-5d6b-4108-8882-57ddcd222da7",
   "metadata": {},
   "source": [
    "### Pre requisites\n",
    "\n",
    "Google API Key \n",
    "https://cloud.google.com/docs/authentication/api-keys"
   ]
  },
  {
   "cell_type": "markdown",
   "id": "465dc233-a8b0-4e76-a95c-5db4d565dfe8",
   "metadata": {},
   "source": [
    "### Setting up required packages"
   ]
  },
  {
   "cell_type": "code",
   "execution_count": null,
   "id": "394e899f-582d-4e20-a2bf-120ea1988f5d",
   "metadata": {},
   "outputs": [],
   "source": [
    "%pip install --quiet --upgrade langchain-text-splitters langchain-community langgraph"
   ]
  },
  {
   "cell_type": "markdown",
   "id": "b51340ef-0d96-4e59-83fd-2be38cfc330c",
   "metadata": {},
   "source": [
    "### Set langsmith property for tracing"
   ]
  },
  {
   "cell_type": "code",
   "execution_count": null,
   "id": "42a5b203-4ec7-4207-8778-5821731f2ae9",
   "metadata": {},
   "outputs": [],
   "source": [
    "import os\n",
    "import getpass\n",
    "\n",
    "os.environ['LANGSMITH_TRACING'] = \"true\"\n",
    "os.environ['LANGSMITH_API_KEY'] = getpass.getpass()"
   ]
  },
  {
   "cell_type": "markdown",
   "id": "d3de7121-6dac-485f-8226-15247acff8a8",
   "metadata": {},
   "source": [
    "### Setting up components"
   ]
  },
  {
   "cell_type": "markdown",
   "id": "29f2c72a-33fc-44be-a4bf-8cd71af38b9e",
   "metadata": {},
   "source": [
    "#### Setting up chat model (LLM)"
   ]
  },
  {
   "cell_type": "code",
   "execution_count": null,
   "id": "fc84bd66-717a-47fd-8798-67c625168524",
   "metadata": {},
   "outputs": [],
   "source": [
    "%pip install -qU \"langchain[google-genai]\""
   ]
  },
  {
   "cell_type": "code",
   "execution_count": null,
   "id": "0ad8f566-dd8d-4679-8031-a50a0854da52",
   "metadata": {},
   "outputs": [],
   "source": [
    "import getpass\n",
    "import os\n",
    "\n",
    "from langchain.chat_models import init_chat_model\n",
    "\n",
    "if not os.environ.get(\"GOOGLE_API_KEY\"):\n",
    "    os.environ[\"GOOGLE_API_KEY\"] = getpass.getpass(\"Enter API key for google gemini: \")\n",
    "\n",
    "llm = init_chat_model('gemini-2.0-flash', model_provider=\"google_genai\")"
   ]
  },
  {
   "cell_type": "markdown",
   "id": "c439021b-1c45-4eca-af74-77c06f6afd03",
   "metadata": {},
   "source": [
    "#### Setting up model for embedding"
   ]
  },
  {
   "cell_type": "code",
   "execution_count": null,
   "id": "6d3f5b0e-95fa-428b-a220-2423b582f316",
   "metadata": {},
   "outputs": [],
   "source": [
    "%pip install -qU \"langchain-google-vertexai\""
   ]
  },
  {
   "cell_type": "code",
   "execution_count": null,
   "id": "4590fbff-fec4-44a2-af77-d567caab2ed4",
   "metadata": {},
   "outputs": [],
   "source": [
    "from langchain_google_vertexai import VertexAIEmbeddings\n",
    "\n",
    "embeddings = VertexAIEmbeddings(model=\"text-embedding-004\")"
   ]
  },
  {
   "cell_type": "markdown",
   "id": "083a6962-464d-4e38-b469-1f43ec190943",
   "metadata": {},
   "source": [
    "#### Setting up the vector store"
   ]
  },
  {
   "cell_type": "code",
   "execution_count": null,
   "id": "d99a9c71-a576-4337-8985-cdb0564f6844",
   "metadata": {},
   "outputs": [],
   "source": [
    "from langchain_core.vectorstores import InMemoryVectorStore\n",
    "\n",
    "vector_store = InMemoryVectorStore(embeddings)"
   ]
  },
  {
   "cell_type": "markdown",
   "id": "eb8e7f51-cdf6-459f-b091-6f6ad769824c",
   "metadata": {},
   "source": [
    "### Indexing"
   ]
  },
  {
   "cell_type": "code",
   "execution_count": null,
   "id": "8fe850a4-dda6-4779-8f88-e10d383cb2cf",
   "metadata": {},
   "outputs": [],
   "source": [
    "import bs4\n",
    "from langchain import hub\n",
    "from langchain_community.document_loaders import WebBaseLoader\n",
    "from langchain_core.documents import Document\n",
    "from langchain_text_splitters import RecursiveCharacterTextSplitter\n",
    "from langgraph.graph import START, StateGraph\n",
    "from typing_extensions import List, TypedDict"
   ]
  },
  {
   "cell_type": "markdown",
   "id": "e346f7b1-8e7b-48ad-8557-e51f6d06ba78",
   "metadata": {},
   "source": [
    "#### Loading"
   ]
  },
  {
   "cell_type": "code",
   "execution_count": null,
   "id": "7f6b8f08-cd83-4137-a0d4-ecbb0beeb2dd",
   "metadata": {},
   "outputs": [],
   "source": [
    "loader = WebBaseLoader(\n",
    "    web_paths=(\"https://lilianweng.github.io/posts/2023-06-23-agent/\",),\n",
    "    bs_kwargs=dict(\n",
    "        parse_only=bs4.SoupStrainer(\n",
    "            class_=(\"post-content\", \"post-title\", \"post-header\")\n",
    "        )\n",
    "    ),\n",
    ")\n",
    "\n",
    "docs = loader.load()\n"
   ]
  },
  {
   "cell_type": "markdown",
   "id": "fcc51d4f-c250-49cb-97b4-cc0127f2edf6",
   "metadata": {},
   "source": [
    "#### Splitting"
   ]
  },
  {
   "cell_type": "code",
   "execution_count": null,
   "id": "a48ff2a1-0f24-4d00-92f9-5ef34b774b72",
   "metadata": {},
   "outputs": [],
   "source": [
    "text_splitter = RecursiveCharacterTextSplitter(chunk_size=1000, chunk_overlap=200)\n",
    "all_splits = text_splitter.split_documents(docs)"
   ]
  },
  {
   "cell_type": "markdown",
   "id": "1ecfe0fa-7119-4cbf-ad41-8f33192fd8ea",
   "metadata": {},
   "source": [
    "#### Indexing"
   ]
  },
  {
   "cell_type": "code",
   "execution_count": null,
   "id": "2ec9f2ba-7df9-4895-ada9-ea72b471781b",
   "metadata": {},
   "outputs": [],
   "source": [
    "_ = vector_store.add_documents(documents=all_splits)"
   ]
  },
  {
   "cell_type": "markdown",
   "id": "1df67b21-f801-4c51-8624-423c76e184ab",
   "metadata": {},
   "source": [
    "### RAG"
   ]
  },
  {
   "cell_type": "code",
   "execution_count": null,
   "id": "538d0b4e-e2c3-4fa9-8844-6f55ab4f5330",
   "metadata": {},
   "outputs": [],
   "source": [
    "prompt = hub.pull(\"rlm/rag-prompt\")\n",
    "\n",
    "class State(TypedDict):\n",
    "    question: str\n",
    "    context: List[Document]\n",
    "    answer: str\n",
    "\n",
    "def retrieve(state: State):\n",
    "    retrieved_docs = vector_store.similarity_search(state[\"question\"])\n",
    "    print(retrieved_docs)\n",
    "    return {\"context\": retrieved_docs}\n",
    "\n",
    "def generate(state: State):\n",
    "    docs_content = \"\\n\\n\".join(doc.page_content for doc in state[\"context\"])\n",
    "    messages = prompt.invoke({\"question\": state[\"question\"], \"context\": docs_content})\n",
    "    response = llm.invoke(messages)\n",
    "    return {\"answer\": response.content}\n"
   ]
  },
  {
   "cell_type": "markdown",
   "id": "46775286-6053-40a7-b07b-f83a4f1e6e70",
   "metadata": {},
   "source": [
    "### Testing"
   ]
  },
  {
   "cell_type": "code",
   "execution_count": null,
   "id": "ebffb0ea-cda1-4b83-b942-235bc67fe3e3",
   "metadata": {},
   "outputs": [],
   "source": [
    "graph_builder = StateGraph(State).add_sequence([retrieve, generate])\n",
    "graph_builder.add_edge(START, \"retrieve\")\n",
    "graph = graph_builder.compile()"
   ]
  },
  {
   "cell_type": "code",
   "execution_count": null,
   "id": "4e3a216b-0d5c-4c31-af42-fd03e4528367",
   "metadata": {},
   "outputs": [],
   "source": [
    "response = graph.invoke({\"question\": \"What is Task Decomposition?\"})\n",
    "print(response[\"answer\"])"
   ]
  }
 ],
 "metadata": {
  "kernelspec": {
   "display_name": "Python 3 (ipykernel)",
   "language": "python",
   "name": "python3"
  },
  "language_info": {
   "codemirror_mode": {
    "name": "ipython",
    "version": 3
   },
   "file_extension": ".py",
   "mimetype": "text/x-python",
   "name": "python",
   "nbconvert_exporter": "python",
   "pygments_lexer": "ipython3",
   "version": "3.11.6"
  }
 },
 "nbformat": 4,
 "nbformat_minor": 5
}
