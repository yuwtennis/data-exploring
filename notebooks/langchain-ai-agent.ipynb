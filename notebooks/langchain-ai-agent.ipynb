{
 "cells": [
  {
   "cell_type": "markdown",
   "id": "875656b3-9356-4fe6-9c38-835863fcdd56",
   "metadata": {},
   "source": [
    "## Build an Agent\n",
    "\n",
    "This notebook is based on following langchain tutorial\n",
    "\n",
    "- https://python.langchain.com/docs/tutorials/agents/  \n",
    "- https://python.langchain.com/docs/concepts/tools/  \n",
    "- https://python.langchain.com/docs/concepts/tool_calling/"
   ]
  },
  {
   "cell_type": "markdown",
   "id": "6d20f0df-66ce-4b0c-8bdc-d64adf2ddcc7",
   "metadata": {},
   "source": [
    "### Setup"
   ]
  },
  {
   "cell_type": "code",
   "execution_count": null,
   "id": "d109e681-9cea-45bb-9086-9e261ed3daed",
   "metadata": {
    "scrolled": true
   },
   "outputs": [],
   "source": [
    "%pip install -U langchain-community langgraph langchain-anthropic tavily-python langgraph-checkpoint-sqlite"
   ]
  },
  {
   "cell_type": "code",
   "execution_count": null,
   "id": "a7f2cdea-3f38-42ba-9808-c9a1ed9aeffd",
   "metadata": {},
   "outputs": [],
   "source": [
    "import os\n",
    "import getpass\n",
    "\n",
    "os.environ['LANGSMITH_TRACING'] = 'true'\n",
    "os.environ['LANGSMITH_API_KEY'] = getpass.getpass('Insert api key for LANGSMITH')"
   ]
  },
  {
   "cell_type": "code",
   "execution_count": null,
   "id": "8062067c-0dcc-4503-bb7f-2d9c89f3799f",
   "metadata": {},
   "outputs": [],
   "source": [
    "os.environ['TAVILY_API_KEY'] = getpass.getpass('Insertapi key for tavily')"
   ]
  },
  {
   "cell_type": "code",
   "execution_count": null,
   "id": "0acca6d1-0b3a-48be-9777-01587e860b82",
   "metadata": {},
   "outputs": [],
   "source": [
    "os.environ[\"ANTHROPIC_API_KEY\"] = getpass.getpass(\"Enter your Anthropic API key: \")"
   ]
  },
  {
   "cell_type": "markdown",
   "id": "ea4ea598-4311-455c-a73f-56cfcedd94a4",
   "metadata": {},
   "source": [
    "### Setup toolchain"
   ]
  },
  {
   "cell_type": "code",
   "execution_count": null,
   "id": "ca7f4e97-3ca2-4c98-bfff-345ee2d384f4",
   "metadata": {},
   "outputs": [],
   "source": [
    "from langchain_community.tools.tavily_search import TavilySearchResults\n",
    "\n",
    "search = TavilySearchResults(max_results=2)\n",
    "\n",
    "search_results = search.invoke(\"what is the weather in SF\")\n",
    "print(search_results)"
   ]
  },
  {
   "cell_type": "code",
   "execution_count": null,
   "id": "54f69fcc-5a52-4c42-a629-a2a36686abdf",
   "metadata": {},
   "outputs": [],
   "source": [
    "tools = [search]"
   ]
  },
  {
   "cell_type": "markdown",
   "id": "7f418eef-5d4c-4e5f-ab7a-7dd6a42494b7",
   "metadata": {},
   "source": [
    "### Setup LLM to run tools"
   ]
  },
  {
   "cell_type": "code",
   "execution_count": null,
   "id": "3674dfa2-83e8-437e-a6e5-604fb0fa9d63",
   "metadata": {},
   "outputs": [],
   "source": [
    "from langchain.chat_models import init_chat_model\n",
    "from langchain_core.language_models.chat_models import BaseChatModel, LanguageModelInput\n",
    "\n",
    "if not os.environ.get(\"GOOGLE_API_KEY\"):\n",
    "  os.environ[\"GOOGLE_API_KEY\"] = getpass.getpass(\"Enter API key for Google Gemini: \")\n",
    "\n",
    "llm_model: BaseChatModel = init_chat_model(\"gemini-2.0-flash\", model_provider=\"google_genai\")\n"
   ]
  },
  {
   "cell_type": "markdown",
   "id": "ea4e383a-6aa8-4f92-955e-3f6ad7d91540",
   "metadata": {},
   "source": [
    "### Quick test with llm"
   ]
  },
  {
   "cell_type": "code",
   "execution_count": null,
   "id": "c04931ab-5c22-44fb-9311-54f294b30b41",
   "metadata": {},
   "outputs": [],
   "source": [
    "from langchain_core.messages import HumanMessage\n",
    "from langchain_core.runnables.base import Runnable\n",
    "from langchain_core.messages.base import BaseMessage, BaseMessageChunk\n",
    "\n",
    "response: BaseMessage = llm_model.invoke([HumanMessage(content=\"hi!\")])\n",
    "response.content"
   ]
  },
  {
   "cell_type": "code",
   "execution_count": null,
   "id": "0dd1ead1-3533-40c7-9a20-d407f425b891",
   "metadata": {},
   "outputs": [],
   "source": [
    "llm_model_with_tools: Runnable[LanguageModelInput, BaseMessage] = llm_model.bind_tools(tools)\n",
    "\n",
    "def from_llm_tool_call(llm_model: Runnable[LanguageModelInput, BaseMessage], message: str) -> BaseMessage:\n",
    "    return model_with_tools.invoke([HumanMessage(content=message)])"
   ]
  },
  {
   "cell_type": "code",
   "execution_count": null,
   "id": "d6e67dc7-7f98-4344-ab43-020dda3a7df6",
   "metadata": {},
   "outputs": [],
   "source": [
    "response = from_llm_tool_call(llm_model_with_tools, 'Hi!')\n",
    "\n",
    "print(f'Content string: {response.content}')\n",
    "print(f'ToolCalls: {response.tool_calls}')"
   ]
  },
  {
   "cell_type": "code",
   "execution_count": null,
   "id": "de746f00-8f64-4479-bcfe-e521ef5c9cb0",
   "metadata": {},
   "outputs": [],
   "source": [
    "response = from_llm_tool_call(llm_model_with_tools, \"what's the weather in SF?\")\n",
    "\n",
    "print(f'Content string: {response.content}')\n",
    "print(f'ToolCalls: {response.tool_calls}')"
   ]
  },
  {
   "cell_type": "markdown",
   "id": "23281a88-e0df-49f0-9c55-a1c7baa2d441",
   "metadata": {},
   "source": [
    "## Create Agent (stateless)"
   ]
  },
  {
   "cell_type": "code",
   "execution_count": null,
   "id": "1ee3fe74-3068-4aca-a4fb-1207e2bfdb61",
   "metadata": {},
   "outputs": [],
   "source": [
    "from langchain_anthropic import ChatAnthropic\n",
    "from langchain_core.messages import HumanMessage\n",
    "from langgraph.checkpoint.memory import MemorySaver\n",
    "from langgraph.prebuilt import create_react_agent\n",
    "import pprint\n",
    "\n",
    "# See\n",
    "# https://docs.anthropic.com/en/docs/about-claude/models/overview#model-names\n",
    "model_id = \"claude-3-7-sonnet-20250219\"\n",
    "\n",
    "memory = MemorySaver()\n",
    "agent_model = ChatAnthropic(model_name=model_id)\n",
    "agent_exc: Runnable = create_react_agent(agent_model, tools)"
   ]
  },
  {
   "cell_type": "markdown",
   "id": "591e67bb-23c3-472c-8b9f-2c0dc2eec3ec",
   "metadata": {},
   "source": [
    "### Run agent"
   ]
  },
  {
   "cell_type": "code",
   "execution_count": null,
   "id": "ca393766-bdb6-44d9-a831-36833cc7b36d",
   "metadata": {},
   "outputs": [],
   "source": [
    "def agent_call(agent: Runnable, message: str) -> BaseMessage:\n",
    "    return agent_exc.invoke({\"messages\": [HumanMessage(content=\"hi\")]})"
   ]
  },
  {
   "cell_type": "code",
   "execution_count": null,
   "id": "92142cfc-dec4-4e31-9ee3-8771c8950075",
   "metadata": {},
   "outputs": [],
   "source": [
    "response = agent_call(agent_exc, \"whats the weather in sf?\")"
   ]
  },
  {
   "cell_type": "code",
   "execution_count": null,
   "id": "f9007be8-fdf4-4489-84d1-b73172a7eb5e",
   "metadata": {},
   "outputs": [],
   "source": [
    "pprint.pprint(response['messages'])"
   ]
  },
  {
   "cell_type": "markdown",
   "id": "9a59be7a-11d8-485f-be06-1f5c1b934363",
   "metadata": {},
   "source": [
    "### Streaming message"
   ]
  },
  {
   "cell_type": "code",
   "execution_count": null,
   "id": "73b451d7-6568-4caf-8790-ba4c437c5dd0",
   "metadata": {},
   "outputs": [],
   "source": [
    "from typing import Iterator\n",
    "\n",
    "stream: Iterator[BaseMessageChunk] = agent_exc.stream(\n",
    "    {\"messages\": [HumanMessage(content=\"whats the weather in sf?\")]},\n",
    "    stream_mode=\"values\")\n",
    "\n",
    "for step in stream:\n",
    "    step[\"messages\"][-1].pretty_print()"
   ]
  },
  {
   "cell_type": "markdown",
   "id": "54bd39df-59fa-498d-ab8f-eb0f5023c0d0",
   "metadata": {},
   "source": [
    "### Streaming tokens"
   ]
  },
  {
   "cell_type": "code",
   "execution_count": null,
   "id": "caaf8a6a-ffa7-4396-9fc5-0c6ff0c469df",
   "metadata": {},
   "outputs": [],
   "source": [
    "stream: Iterator[BaseMessageChunk] = agent_exc.stream(\n",
    "    {\"messages\": [HumanMessage(content=\"whats the weather in sf?\")]},\n",
    "    stream_mode=\"messages\")\n",
    "\n",
    "for step, metadata in stream:\n",
    "    if metadata[\"langgraph_node\"] == \"agent\" and (text := step.text()):\n",
    "        print(text, end=\"|\")"
   ]
  },
  {
   "cell_type": "markdown",
   "id": "e90be3dd-2f00-4584-bfb6-842ae1985305",
   "metadata": {},
   "source": [
    "## Create agent(stateful)\n",
    "\n",
    "Pupose is to remember previous interactions"
   ]
  },
  {
   "cell_type": "code",
   "execution_count": null,
   "id": "47440b26-73d3-4269-be02-335836c0e43e",
   "metadata": {},
   "outputs": [],
   "source": [
    "from langgraph.checkpoint.memory import MemorySaver\n",
    "from uuid import uuid1\n",
    "\n",
    "# Memory as statestore\n",
    "memory = MemorySaver()\n",
    "\n",
    "agent_exc = create_react_agent(agent_model, tools, checkpointer=memory)"
   ]
  },
  {
   "cell_type": "code",
   "execution_count": null,
   "id": "a7a544f2-cb15-4b68-a278-5af8cdf89f32",
   "metadata": {},
   "outputs": [],
   "source": [
    "def do_conversation(agent: Runnable, message: str, config: dict[str, dict[str, str]]) -> Iterator[BaseMessageChunk]:\n",
    "    return agent.stream(\n",
    "    {\"messages\": [HumanMessage(content=message)]}, config\n",
    ")"
   ]
  },
  {
   "cell_type": "code",
   "execution_count": null,
   "id": "a87361d7-570b-42b9-8f28-e6bf9d8404a8",
   "metadata": {},
   "outputs": [],
   "source": [
    "thread_id = str(uuid1())\n",
    "config = {\"configurable\": {\"thread_id\": thread_id}}\n",
    "\n",
    "message = \"hi im Bob!\"\n",
    "stream = do_conversation(agent_exc, message, config)\n",
    "\n",
    "for chunk in stream:\n",
    "    print(chunk)\n",
    "    print('------')"
   ]
  },
  {
   "cell_type": "code",
   "execution_count": null,
   "id": "1b19b006-659e-4437-a0fc-c359e1839003",
   "metadata": {},
   "outputs": [],
   "source": [
    "message = \"What is my name\"\n",
    "stream = do_conversation(agent_exc, message, config)\n",
    "\n",
    "for chunk in stream:\n",
    "    print(chunk)\n",
    "    print('------')"
   ]
  },
  {
   "cell_type": "code",
   "execution_count": null,
   "id": "40f20803-5182-4f9c-8c16-4aad4453c4de",
   "metadata": {},
   "outputs": [],
   "source": [
    "thread_id = str(uuid1())\n",
    "config = {\"configurable\": {\"thread_id\": thread_id}}\n",
    "\n",
    "message = \"What is my name\"\n",
    "stream = do_conversation(agent_exc, message, config)\n",
    "\n",
    "for chunk in stream:\n",
    "    print(chunk)\n",
    "    print('------')"
   ]
  }
 ],
 "metadata": {
  "kernelspec": {
   "display_name": "Python 3 (ipykernel)",
   "language": "python",
   "name": "python3"
  },
  "language_info": {
   "codemirror_mode": {
    "name": "ipython",
    "version": 3
   },
   "file_extension": ".py",
   "mimetype": "text/x-python",
   "name": "python",
   "nbconvert_exporter": "python",
   "pygments_lexer": "ipython3",
   "version": "3.11.6"
  }
 },
 "nbformat": 4,
 "nbformat_minor": 5
}
